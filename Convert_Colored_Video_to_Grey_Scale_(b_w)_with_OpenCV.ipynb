{
  "nbformat": 4,
  "nbformat_minor": 0,
  "metadata": {
    "colab": {
      "provenance": [],
      "authorship_tag": "ABX9TyP1hHh+m1V6+q8YPMFZDTV8",
      "include_colab_link": true
    },
    "kernelspec": {
      "name": "python3",
      "display_name": "Python 3"
    },
    "language_info": {
      "name": "python"
    }
  },
  "cells": [
    {
      "cell_type": "markdown",
      "metadata": {
        "id": "view-in-github",
        "colab_type": "text"
      },
      "source": [
        "<a href=\"https://colab.research.google.com/github/kabir-kj/Mini-Project-17-Convert-Colored-Video-to-Grey-Scale-b-w-using-OpenCV/blob/main/Convert_Colored_Video_to_Grey_Scale_(b_w)_with_OpenCV.ipynb\" target=\"_parent\"><img src=\"https://colab.research.google.com/assets/colab-badge.svg\" alt=\"Open In Colab\"/></a>"
      ]
    },
    {
      "cell_type": "code",
      "execution_count": 1,
      "metadata": {
        "colab": {
          "base_uri": "https://localhost:8080/"
        },
        "id": "txByUECrkiIq",
        "outputId": "01731243-ac6f-47bd-9a65-e4ef3cfb0897"
      },
      "outputs": [
        {
          "output_type": "stream",
          "name": "stdout",
          "text": [
            "Looking in indexes: https://pypi.org/simple, https://us-python.pkg.dev/colab-wheels/public/simple/\n",
            "Requirement already satisfied: opencv-python in /usr/local/lib/python3.10/dist-packages (4.7.0.72)\n",
            "Requirement already satisfied: numpy>=1.21.2 in /usr/local/lib/python3.10/dist-packages (from opencv-python) (1.22.4)\n"
          ]
        }
      ],
      "source": [
        "!pip install opencv-python"
      ]
    },
    {
      "cell_type": "code",
      "source": [
        "import cv2\n",
        "import numpy as np\n",
        "\n",
        "# reading the vedio\n",
        "source = cv2.VideoCapture('vid.mp4')\n",
        "\n",
        "# We need to set resolutions.\n",
        "# so, convert them from float to integer.\n",
        "frame_width = int(source.get(3))\n",
        "frame_height = int(source.get(4))\n",
        "\n",
        "size = (frame_width, frame_height)\n",
        "\n",
        "result = cv2.VideoWriter('gray.avi',\n",
        "            cv2.VideoWriter_fourcc(*'MJPG'),\n",
        "            10, size, 0)\n",
        "\n",
        "# running the loop\n",
        "while True:\n",
        "\n",
        "    # extracting the frames\n",
        "    ret, img = source.read()\n",
        "    if ret == True:\n",
        "      # converting to gray-scale\n",
        "      gray = cv2.cvtColor(img, cv2.COLOR_BGR2GRAY)\n",
        "\n",
        "      # write to gray-scale\n",
        "      result.write(gray)\n",
        "\n",
        "    else:\n",
        "        break\n"
      ],
      "metadata": {
        "id": "6I9Kzp8pkjJW"
      },
      "execution_count": 3,
      "outputs": []
    }
  ]
}